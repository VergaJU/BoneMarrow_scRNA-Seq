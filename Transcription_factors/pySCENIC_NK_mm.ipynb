{
 "cells": [
  {
   "cell_type": "markdown",
   "id": "caf9650d-a248-4727-8073-0e032baa3939",
   "metadata": {},
   "source": [
    "# pySCENIC on NK cells, MM\n",
    "\n",
    "Preparation and run Single-Cell rEgulatory Network Inference and Clustering using pySCENIC.\n",
    "\n",
    "## Why pySCENIC\n",
    "- A lot of compatibility problems with the R version\n",
    "- Faster\n",
    "- I like more python than\n",
    "\n",
    "After having preparred the environment and the files (look [here](./prepare_env.ipnb))"
   ]
  },
  {
   "cell_type": "code",
   "execution_count": 2,
   "id": "c1d03a0b-e5f3-4182-9438-09b03a870231",
   "metadata": {
    "tags": []
   },
   "outputs": [],
   "source": [
    "import numpy as np\n",
    "import pandas as pd\n",
    "import scanpy as sc\n",
    "import loompy as lp\n",
    "from MulticoreTSNE import MulticoreTSNE as TSNE\n",
    "import glob\n",
    "import seaborn as sns\n",
    "import matplotlib.pyplot as plt\n",
    "import warnings\n",
    "warnings.filterwarnings('ignore')\n"
   ]
  },
  {
   "cell_type": "code",
   "execution_count": 9,
   "id": "c3ad811d-e041-43e6-81dc-c2baf230f4a3",
   "metadata": {
    "tags": []
   },
   "outputs": [
    {
     "data": {
      "text/plain": [
       "AnnData object with n_obs × n_vars = 14103 × 48361\n",
       "    obs: 'orig.ident', 'nCount_RNA', 'nFeature_RNA', 'percent_mt', 'batch', 'label', 'new_label', 'condition'"
      ]
     },
     "execution_count": 9,
     "metadata": {},
     "output_type": "execute_result"
    }
   ],
   "source": [
    "adata = sc.read_h5ad(\"Data/mm_nk.h5ad\")\n",
    "adata"
   ]
  },
  {
   "cell_type": "code",
   "execution_count": 3,
   "id": "16099077-01d8-44b7-b08a-f3cf3ea55d75",
   "metadata": {
    "tags": []
   },
   "outputs": [],
   "source": [
    "#sc.pp.subsample(adata, n_obs=100)"
   ]
  },
  {
   "cell_type": "markdown",
   "id": "fe16d2b7-e2f2-4d7a-b52d-641c816164f5",
   "metadata": {},
   "source": [
    "write to an unfiltered loom file"
   ]
  },
  {
   "cell_type": "code",
   "execution_count": 4,
   "id": "0782e0df-4a79-447f-aea0-b31e04ce3742",
   "metadata": {
    "tags": []
   },
   "outputs": [],
   "source": [
    "f_loom_path_unfilt = \"Data/nk_mm_unfiltered.loom\"\n",
    "row_attrs = { \n",
    "    \"Gene\": np.array(adata.var.index) ,\n",
    "}\n",
    "col_attrs = { \n",
    "    \"CellID\":  np.array(adata.obs.index) ,\n",
    "    \"nGene\": np.array( np.sum(adata.X.transpose()>0 , axis=0)).flatten() ,\n",
    "    \"nUMI\": np.array( np.sum(adata.X.transpose() , axis=0)).flatten() ,\n",
    "    \"new_label\": np.array(adata.obs.new_label)\n",
    "}\n",
    "\n",
    "lp.create( f_loom_path_unfilt, adata.X.transpose(), row_attrs, col_attrs )"
   ]
  },
  {
   "cell_type": "markdown",
   "id": "7c20839e-ee47-41f3-aef8-cdb109287014",
   "metadata": {
    "tags": []
   },
   "source": [
    "# basic metrics and filtering:"
   ]
  },
  {
   "cell_type": "code",
   "execution_count": 10,
   "id": "bdcdf1a4-2784-4dc8-845e-2a130a96e82a",
   "metadata": {
    "tags": []
   },
   "outputs": [
    {
     "name": "stdout",
     "output_type": "stream",
     "text": [
      "Number of counts (in the dataset units) per gene: 0.0  -  3303925.0\n",
      "Number of cells in which each gene is detected: 0  -  14081\n"
     ]
    }
   ],
   "source": [
    "nCountsPerGene = np.sum(adata.X, axis=0)\n",
    "nCellsPerGene = np.sum(adata.X>0, axis=0)\n",
    "\n",
    "# Show info~\n",
    "print(\"Number of counts (in the dataset units) per gene:\", nCountsPerGene.min(), \" - \" ,nCountsPerGene.max())\n",
    "print(\"Number of cells in which each gene is detected:\", nCellsPerGene.min(), \" - \" ,nCellsPerGene.max())"
   ]
  },
  {
   "cell_type": "code",
   "execution_count": 11,
   "id": "59877cae-77d1-424e-88fb-4c3c77ba3149",
   "metadata": {
    "tags": []
   },
   "outputs": [
    {
     "name": "stdout",
     "output_type": "stream",
     "text": [
      "minCountsPerGene:  423.09\n",
      "minSamples:  141.03\n"
     ]
    }
   ],
   "source": [
    "nCells=adata.X.shape[0]\n",
    "\n",
    "# pySCENIC thresholds\n",
    "minCountsPerGene=3*.01*nCells # 3 counts in 1% of cells\n",
    "print(\"minCountsPerGene: \", minCountsPerGene)\n",
    "\n",
    "minSamples=.01*nCells # 1% of cells\n",
    "print(\"minSamples: \", minSamples)"
   ]
  },
  {
   "cell_type": "code",
   "execution_count": 12,
   "id": "1ac36de0-74b1-4e50-93b7-73e2499b2f5c",
   "metadata": {
    "tags": []
   },
   "outputs": [
    {
     "data": {
      "text/plain": [
       "AnnData object with n_obs × n_vars = 14038 × 8095\n",
       "    obs: 'orig.ident', 'nCount_RNA', 'nFeature_RNA', 'percent_mt', 'batch', 'label', 'new_label', 'condition', 'n_genes'\n",
       "    var: 'n_cells', 'n_counts'"
      ]
     },
     "execution_count": 12,
     "metadata": {},
     "output_type": "execute_result"
    }
   ],
   "source": [
    "adata_copy = adata.copy()\n",
    "\n",
    "# initial cuts\n",
    "sc.pp.filter_cells(adata_copy, min_genes=200 )\n",
    "sc.pp.filter_genes(adata_copy, min_cells=minSamples)\n",
    "sc.pp.filter_genes(adata_copy, min_counts=minCountsPerGene)\n",
    "\n",
    "adata_copy"
   ]
  },
  {
   "cell_type": "code",
   "execution_count": 19,
   "id": "8596c578-9ac1-4798-821c-9392d8e7a528",
   "metadata": {
    "tags": []
   },
   "outputs": [],
   "source": [
    "f_loom_path_scenic = \"Data/nk_mm_scenic.loom\""
   ]
  },
  {
   "cell_type": "code",
   "execution_count": 8,
   "id": "918d5913-d91a-4e95-92f3-0ba460f462d5",
   "metadata": {
    "tags": []
   },
   "outputs": [],
   "source": [
    "# create basic row and column attributes for the loom file:\n",
    "row_attrs = {\n",
    "    \"Gene\": np.array(adata.var_names) ,\n",
    "}\n",
    "col_attrs = {\n",
    "    \"CellID\": np.array(adata.obs_names) ,\n",
    "    \"nGene\": np.array( np.sum(adata.X.transpose()>0 , axis=0)).flatten() ,\n",
    "    \"nUMI\": np.array( np.sum(adata.X.transpose() , axis=0)).flatten() ,\n",
    "}\n",
    "lp.create( f_loom_path_scenic, adata.X.transpose(), row_attrs, col_attrs)"
   ]
  },
  {
   "cell_type": "markdown",
   "id": "8be9744c-5fc9-4b38-bca6-ec57c3dd7d61",
   "metadata": {},
   "source": [
    "## Scenic\n",
    "\n",
    "\n",
    "### STEP 1: Gene regulatory network inference, and generation of co-expression modules\n",
    "Phase Ia: GRN inference using the GRNBoost2 algorithm\n",
    "\n",
    "For this step the CLI version of SCENIC is used.\n"
   ]
  },
  {
   "cell_type": "code",
   "execution_count": 23,
   "id": "c1fc3cb7-b7a8-4704-8c00-46fadd861ce3",
   "metadata": {
    "tags": []
   },
   "outputs": [],
   "source": [
    "tfs = \"databases/allTFs_hg38.txt\""
   ]
  },
  {
   "cell_type": "code",
   "execution_count": 10,
   "id": "da2202b6-c199-4875-9495-f51cff7d8072",
   "metadata": {
    "tags": []
   },
   "outputs": [],
   "source": [
    "!mkdir Results"
   ]
  },
  {
   "cell_type": "markdown",
   "id": "b6d8f1c5-86e4-434b-9648-29972c32c091",
   "metadata": {},
   "source": [
    "Dask is having memoru issues using all the cores available (24), testing with less nodes (12) ([reference](https://github.com/aertslab/pySCENIC/issues/54#issuecomment-817164063)). If it doesn't work I'll try the multiprocessing script:\n",
    "```\n",
    "! arboreto_with_multiprocessing.py \\\n",
    "    {f_loom_path_scenic} \\\n",
    "    {tfs} \\\n",
    "    --method grnboost2 \\\n",
    "    --output Results/adj.tsv \\\n",
    "    --num_workers 24 \\\n",
    "    --seed 123\n",
    "```\n",
    "\n",
    "`pyscenic grn` with less workers worked (half of the cpus available)"
   ]
  },
  {
   "cell_type": "code",
   "execution_count": 14,
   "id": "557ad341-46f0-4eb5-a054-ed827bff14b9",
   "metadata": {
    "tags": []
   },
   "outputs": [],
   "source": [
    "!pyscenic grn {f_loom_path_scenic} {tfs} -o Results/adj.csv --num_workers 12 --seed 123 1> grn.log 2> grn.err"
   ]
  },
  {
   "cell_type": "code",
   "execution_count": 3,
   "id": "d8f3a30c-9de9-4b3f-bddb-8d1c8307978a",
   "metadata": {
    "tags": []
   },
   "outputs": [
    {
     "data": {
      "text/html": [
       "<div>\n",
       "<style scoped>\n",
       "    .dataframe tbody tr th:only-of-type {\n",
       "        vertical-align: middle;\n",
       "    }\n",
       "\n",
       "    .dataframe tbody tr th {\n",
       "        vertical-align: top;\n",
       "    }\n",
       "\n",
       "    .dataframe thead th {\n",
       "        text-align: right;\n",
       "    }\n",
       "</style>\n",
       "<table border=\"1\" class=\"dataframe\">\n",
       "  <thead>\n",
       "    <tr style=\"text-align: right;\">\n",
       "      <th></th>\n",
       "      <th>TF,target,importance</th>\n",
       "    </tr>\n",
       "  </thead>\n",
       "  <tbody>\n",
       "    <tr>\n",
       "      <th>0</th>\n",
       "      <td>ZNF90,AC090498.1,291.6007153679469</td>\n",
       "    </tr>\n",
       "    <tr>\n",
       "      <th>1</th>\n",
       "      <td>RPL35,RPL27A,277.3820707232509</td>\n",
       "    </tr>\n",
       "    <tr>\n",
       "      <th>2</th>\n",
       "      <td>TPI1,ENO1,246.19201133992507</td>\n",
       "    </tr>\n",
       "    <tr>\n",
       "      <th>3</th>\n",
       "      <td>ZNF90,GNB2L1,234.80202042156603</td>\n",
       "    </tr>\n",
       "    <tr>\n",
       "      <th>4</th>\n",
       "      <td>RPL35,RPL13A,229.1613366803689</td>\n",
       "    </tr>\n",
       "  </tbody>\n",
       "</table>\n",
       "</div>"
      ],
      "text/plain": [
       "                 TF,target,importance\n",
       "0  ZNF90,AC090498.1,291.6007153679469\n",
       "1      RPL35,RPL27A,277.3820707232509\n",
       "2        TPI1,ENO1,246.19201133992507\n",
       "3     ZNF90,GNB2L1,234.80202042156603\n",
       "4      RPL35,RPL13A,229.1613366803689"
      ]
     },
     "execution_count": 3,
     "metadata": {},
     "output_type": "execute_result"
    }
   ],
   "source": [
    "adjacencies = pd.read_csv(\"Results/adj.csv\", index_col=False, sep='\\t')\n",
    "adjacencies.head()"
   ]
  },
  {
   "cell_type": "code",
   "execution_count": 24,
   "id": "94f185c3-8810-4de1-8a61-6b52ad2f5dee",
   "metadata": {
    "tags": []
   },
   "outputs": [],
   "source": [
    "import glob\n",
    "# ranking databases\n",
    "f_db_glob = \"databases/*feather\"\n",
    "f_db_names = ' '.join( glob.glob(f_db_glob) )\n",
    "\n",
    "# motif databases\n",
    "f_motif_path = \"databases/motifs-v10nr_clust-nr.hgnc-m0.001-o0.0.tbl\""
   ]
  },
  {
   "cell_type": "markdown",
   "id": "0be0e782-e61c-4906-abb4-5c78afc2456f",
   "metadata": {
    "tags": []
   },
   "source": [
    "Evaluate co-expressio modules infering TF motifs:"
   ]
  },
  {
   "cell_type": "code",
   "execution_count": 26,
   "id": "c08aeca1-9021-4b32-8531-4bae26d999ca",
   "metadata": {
    "tags": []
   },
   "outputs": [],
   "source": [
    "!pyscenic ctx Results/adj.csv \\\n",
    "    {f_db_names} \\\n",
    "    --annotations_fname {f_motif_path} \\\n",
    "    --expression_mtx_fname {f_loom_path_scenic} \\\n",
    "    --output Results/reg.csv \\\n",
    "    --mask_dropouts \\\n",
    "    --num_workers 24 \\\n",
    "    1> ctx.log 2> ctx.err"
   ]
  },
  {
   "cell_type": "code",
   "execution_count": 27,
   "id": "b4831748-a448-4d9c-a1a8-e67c15017734",
   "metadata": {
    "tags": []
   },
   "outputs": [
    {
     "name": "stdout",
     "output_type": "stream",
     "text": [
      "           0\n",
      "0.01   264.0\n",
      "0.05   396.0\n",
      "0.10   525.0\n",
      "0.50  1036.0\n",
      "1.00  4681.0\n"
     ]
    }
   ],
   "source": [
    "nGenesDetectedPerCell = pd.DataFrame(np.sum(adata_copy.X>0, axis=1).flatten().tolist()).T\n",
    "percentiles = nGenesDetectedPerCell.quantile([.01, .05, .10, .50, 1])\n",
    "print(percentiles)"
   ]
  },
  {
   "cell_type": "code",
   "execution_count": 28,
   "id": "6b02e20a-b2e3-45b0-a6f6-69c176a800c7",
   "metadata": {
    "tags": []
   },
   "outputs": [
    {
     "data": {
      "image/png": "[encoded data removed]",
      "text/plain": [
       "<Figure size 1200x750 with 1 Axes>"
      ]
     },
     "metadata": {},
     "output_type": "display_data"
    }
   ],
   "source": [
    "fig, ax = plt.subplots(1, 1, figsize=(8, 5), dpi=150)\n",
    "sns.distplot(nGenesDetectedPerCell, norm_hist=False, kde=False, bins='fd')\n",
    "for i,x in percentiles.iterrows():\n",
    "    fig.gca().axvline(x=x[0], ymin=0,ymax=1, color='red')\n",
    "    ax.text(x=x[0], y=ax.get_ylim()[1], s=f'{int(x[0])} {i*100}%', color='red', rotation=30, size='x-small',rotation_mode='anchor' )\n",
    "ax.set_xlabel('# of genes')\n",
    "ax.set_ylabel('# of cells')\n",
    "fig.tight_layout()"
   ]
  },
  {
   "cell_type": "code",
   "execution_count": 29,
   "id": "f0e52250-e81f-459f-864b-879cdfcb4f1a",
   "metadata": {
    "tags": []
   },
   "outputs": [],
   "source": [
    "f_pyscenic_output = \"Results/pyscenic_output.loom\""
   ]
  },
  {
   "cell_type": "code",
   "execution_count": 31,
   "id": "2dfbe228-98af-4a1d-9eac-40864a5576d0",
   "metadata": {
    "tags": []
   },
   "outputs": [],
   "source": [
    "!pyscenic aucell \\\n",
    "    {f_loom_path_scenic} \\\n",
    "    Results/reg.csv \\\n",
    "    --output {f_pyscenic_output} \\\n",
    "    --num_workers 24 \\\n",
    "     1> aucell.log 2> aucell.err"
   ]
  },
  {
   "cell_type": "code",
   "execution_count": 32,
   "id": "559a4f12-5066-4b50-8289-44be2ef1802f",
   "metadata": {
    "tags": []
   },
   "outputs": [],
   "source": [
    "import json\n",
    "import zlib\n",
    "import base64\n",
    "\n",
    "# collect SCENIC AUCell output\n",
    "lf = lp.connect( f_pyscenic_output, mode='r+', validate=False )\n",
    "auc_mtx = pd.DataFrame( lf.ca.RegulonsAUC, index=lf.ca.CellID)\n",
    "lf.close()"
   ]
  },
  {
   "cell_type": "code",
   "execution_count": 33,
   "id": "91f5d026-a2db-49c9-a7c8-5f670e87f0d9",
   "metadata": {
    "tags": []
   },
   "outputs": [],
   "source": [
    "import umap\n",
    "\n",
    "# UMAP\n",
    "runUmap = umap.UMAP(n_neighbors=10, min_dist=0.4, metric='correlation').fit_transform\n",
    "dr_umap = runUmap( auc_mtx )\n",
    "pd.DataFrame(dr_umap, columns=['X', 'Y'], index=auc_mtx.index).to_csv( \"scenic_umap.txt\", sep='\\t')"
   ]
  },
  {
   "cell_type": "code",
   "execution_count": 34,
   "id": "d4763520-1c23-4d35-aab7-ceb83d0ec48a",
   "metadata": {
    "tags": []
   },
   "outputs": [],
   "source": [
    "# scenic output\n",
    "lf = lp.connect( f_pyscenic_output, mode='r+', validate=False )\n",
    "meta = json.loads(zlib.decompress(base64.b64decode( lf.attrs.MetaData )))\n",
    "#exprMat = pd.DataFrame( lf[:,:], index=lf.ra.Gene, columns=lf.ca.CellID)\n",
    "auc_mtx = pd.DataFrame( lf.ca.RegulonsAUC, index=lf.ca.CellID)\n",
    "regulons = lf.ra.Regulons\n",
    "dr_umap = pd.read_csv( 'scenic_umap.txt', sep='\\t', header=0, index_col=0 )\n",
    "###"
   ]
  },
  {
   "cell_type": "code",
   "execution_count": 35,
   "id": "96ecaf1a-4007-4227-a8c7-f82f09bbfdc9",
   "metadata": {
    "tags": []
   },
   "outputs": [],
   "source": [
    "auc_mtx.columns = auc_mtx.columns.str.replace('\\(','_(')\n",
    "regulons.dtype.names = tuple( [ x.replace(\"(\",\"_(\") for x in regulons.dtype.names ] )\n",
    "# regulon thresholds\n",
    "rt = meta['regulonThresholds']\n",
    "for i,x in enumerate(rt):\n",
    "    tmp = x.get('regulon').replace(\"(\",\"_(\")\n",
    "    x.update( {'regulon': tmp} )"
   ]
  },
  {
   "cell_type": "markdown",
   "id": "81e1d995-6b93-45bd-91da-d835ec431a0b",
   "metadata": {
    "tags": []
   },
   "source": [
    "# TODO: continue with saving the file, adding the umap coordinates to the anndata object, analysis"
   ]
  },
  {
   "cell_type": "code",
   "execution_count": 44,
   "id": "d9061080-a951-4e08-8aac-bdfe5938c7ea",
   "metadata": {
    "tags": []
   },
   "outputs": [
    {
     "data": {
      "text/plain": [
       "AnnData object with n_obs × n_vars = 14038 × 8095\n",
       "    obs: 'orig.ident', 'nCount_RNA', 'nFeature_RNA', 'percent_mt', 'batch', 'label', 'new_label', 'condition', 'n_genes'\n",
       "    var: 'n_cells', 'n_counts'"
      ]
     },
     "execution_count": 44,
     "metadata": {},
     "output_type": "execute_result"
    }
   ],
   "source": [
    "adata_copy"
   ]
  },
  {
   "cell_type": "code",
   "execution_count": 45,
   "id": "9acf1f48-838f-4ca5-b021-9f714f65b60d",
   "metadata": {
    "tags": []
   },
   "outputs": [
    {
     "data": {
      "text/plain": [
       "(14103, 2)"
      ]
     },
     "execution_count": 45,
     "metadata": {},
     "output_type": "execute_result"
    }
   ],
   "source": [
    "dr_umap.shape"
   ]
  }
 ],
 "metadata": {
  "kernelspec": {
   "display_name": "Python 3 (ipykernel)",
   "language": "python",
   "name": "python3"
  },
  "language_info": {
   "codemirror_mode": {
    "name": "ipython",
    "version": 3
   },
   "file_extension": ".py",
   "mimetype": "text/x-python",
   "name": "python",
   "nbconvert_exporter": "python",
   "pygments_lexer": "ipython3",
   "version": "3.8.10"
  }
 },
 "nbformat": 4,
 "nbformat_minor": 5
}
