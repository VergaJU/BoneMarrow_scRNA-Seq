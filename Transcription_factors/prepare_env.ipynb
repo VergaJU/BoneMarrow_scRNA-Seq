{
 "cells": [
  {
   "cell_type": "markdown",
   "id": "52c8e2a8-e115-46b5-b36a-bea3043ea657",
   "metadata": {},
   "source": [
    "# Preparation environment to run pySCENIC\n",
    "\n",
    "On human samples\n",
    "\n",
    "## Why pySCENIC\n",
    "- A lot of compatibility problems with the R version\n",
    "- Faster\n",
    "- I like more python than R\n",
    "\n",
    "## Environment\n",
    "\n",
    "After installing the packages:\n",
    "- scanpy\n",
    "- jupyter-lab\n",
    "- pyscenic\n",
    "\n",
    "I proceed with downloading the required databases (for human obv):\n",
    "- [TF list](https://resources.aertslab.org/cistarget/tf_lists/)\n",
    "- [Motif2TF annotations](https://resources.aertslab.org/cistarget/motif2tf/)\n",
    "- [cisTarget databases](https://resources.aertslab.org/cistarget/databases/)\n",
    "\n",
    "I am selecting the recomended version v10 based on the new 2022 SCENIC+ package."
   ]
  },
  {
   "cell_type": "code",
   "execution_count": 1,
   "id": "87ab4f1c-a4dc-4d6a-b6de-59a9bb7fc20c",
   "metadata": {
    "tags": []
   },
   "outputs": [
    {
     "name": "stdout",
     "output_type": "stream",
     "text": [
      "--2023-03-07 10:47:41--  https://resources.aertslab.org/cistarget/tf_lists/allTFs_hg38.txt\n",
      "Resolving resources.aertslab.org (resources.aertslab.org)... 134.58.50.9\n",
      "Connecting to resources.aertslab.org (resources.aertslab.org)|134.58.50.9|:443... connected.\n",
      "HTTP request sent, awaiting response... 200 OK\n",
      "Length: 11690 (11K) [text/plain]\n",
      "Saving to: 'databases/allTFs_hg38.txt'\n",
      "\n",
      "allTFs_hg38.txt     100%[===================>]  11.42K  --.-KB/s    in 0s      \n",
      "\n",
      "2023-03-07 10:47:41 (96.8 MB/s) - 'databases/allTFs_hg38.txt' saved [11690/11690]\n",
      "\n",
      "--2023-03-07 10:47:41--  https://resources.aertslab.org/cistarget/motif2tf/motifs-v10nr_clust-nr.hgnc-m0.001-o0.0.tbl\n",
      "Resolving resources.aertslab.org (resources.aertslab.org)... 134.58.50.9\n",
      "Connecting to resources.aertslab.org (resources.aertslab.org)|134.58.50.9|:443... connected.\n",
      "HTTP request sent, awaiting response... 200 OK\n",
      "Length: 98718421 (94M)\n",
      "Saving to: 'databases/motifs-v10nr_clust-nr.hgnc-m0.001-o0.0.tbl'\n",
      "\n",
      "motifs-v10nr_clust- 100%[===================>]  94.14M  79.0MB/s    in 1.2s    \n",
      "\n",
      "2023-03-07 10:47:43 (79.0 MB/s) - 'databases/motifs-v10nr_clust-nr.hgnc-m0.001-o0.0.tbl' saved [98718421/98718421]\n",
      "\n"
     ]
    }
   ],
   "source": [
    "!wget https://resources.aertslab.org/cistarget/tf_lists/allTFs_hg38.txt -P databases/\n",
    "!wget https://resources.aertslab.org/cistarget/motif2tf/motifs-v10nr_clust-nr.hgnc-m0.001-o0.0.tbl -P databases/"
   ]
  },
  {
   "cell_type": "code",
   "execution_count": 2,
   "id": "749fbdef-14ff-4bc7-84bb-bb0c4322e54a",
   "metadata": {
    "tags": []
   },
   "outputs": [
    {
     "name": "stdout",
     "output_type": "stream",
     "text": [
      "--2023-03-07 10:47:43--  https://resources.aertslab.org/cistarget/databases/homo_sapiens/hg38/refseq_r80/mc_v10_clust/gene_based/hg38_10kbp_up_10kbp_down_full_tx_v10_clust.genes_vs_motifs.rankings.feather\n",
      "Resolving resources.aertslab.org (resources.aertslab.org)... 134.58.50.9\n",
      "Connecting to resources.aertslab.org (resources.aertslab.org)|134.58.50.9|:443... connected.\n",
      "HTTP request sent, awaiting response... 200 OK\n",
      "Length: 311298530 (297M)\n",
      "Saving to: 'databases/hg38_10kbp_up_10kbp_down_full_tx_v10_clust.genes_vs_motifs.rankings.feather'\n",
      "\n",
      "hg38_10kbp_up_10kbp 100%[===================>] 296.88M  89.4MB/s    in 3.5s    \n",
      "\n",
      "2023-03-07 10:47:46 (85.9 MB/s) - 'databases/hg38_10kbp_up_10kbp_down_full_tx_v10_clust.genes_vs_motifs.rankings.feather' saved [311298530/311298530]\n",
      "\n",
      "--2023-03-07 10:47:47--  https://resources.aertslab.org/cistarget/databases/homo_sapiens/hg38/refseq_r80/mc_v10_clust/gene_based/hg38_10kbp_up_10kbp_down_full_tx_v10_clust.genes_vs_motifs.rankings.feather.sha1sum.txt\n",
      "Resolving resources.aertslab.org (resources.aertslab.org)... 134.58.50.9\n",
      "Connecting to resources.aertslab.org (resources.aertslab.org)|134.58.50.9|:443... connected.\n",
      "HTTP request sent, awaiting response... 200 OK\n",
      "Length: 118 [text/plain]\n",
      "Saving to: 'databases/hg38_10kbp_up_10kbp_down_full_tx_v10_clust.genes_vs_motifs.rankings.feather.sha1sum.txt'\n",
      "\n",
      "hg38_10kbp_up_10kbp 100%[===================>]     118  --.-KB/s    in 0s      \n",
      "\n",
      "2023-03-07 10:47:47 (14.8 MB/s) - 'databases/hg38_10kbp_up_10kbp_down_full_tx_v10_clust.genes_vs_motifs.rankings.feather.sha1sum.txt' saved [118/118]\n",
      "\n",
      "--2023-03-07 10:47:47--  https://resources.aertslab.org/cistarget/databases/homo_sapiens/hg38/refseq_r80/mc_v10_clust/gene_based/hg38_10kbp_up_10kbp_down_full_tx_v10_clust.genes_vs_motifs.scores.feather\n",
      "Resolving resources.aertslab.org (resources.aertslab.org)... 134.58.50.9\n",
      "Connecting to resources.aertslab.org (resources.aertslab.org)|134.58.50.9|:443... connected.\n",
      "HTTP request sent, awaiting response... 200 OK\n",
      "Length: 342571642 (327M)\n",
      "Saving to: 'databases/hg38_10kbp_up_10kbp_down_full_tx_v10_clust.genes_vs_motifs.scores.feather'\n",
      "\n",
      "hg38_10kbp_up_10kbp 100%[===================>] 326.70M  89.7MB/s    in 3.8s    \n",
      "\n",
      "2023-03-07 10:47:51 (86.3 MB/s) - 'databases/hg38_10kbp_up_10kbp_down_full_tx_v10_clust.genes_vs_motifs.scores.feather' saved [342571642/342571642]\n",
      "\n",
      "--2023-03-07 10:47:51--  https://resources.aertslab.org/cistarget/databases/homo_sapiens/hg38/refseq_r80/mc_v10_clust/gene_based/hg38_10kbp_up_10kbp_down_full_tx_v10_clust.genes_vs_motifs.scores.feather.sha1sum.txt\n",
      "Resolving resources.aertslab.org (resources.aertslab.org)... 134.58.50.9\n",
      "Connecting to resources.aertslab.org (resources.aertslab.org)|134.58.50.9|:443... connected.\n",
      "HTTP request sent, awaiting response... 200 OK\n",
      "Length: 116 [text/plain]\n",
      "Saving to: 'databases/hg38_10kbp_up_10kbp_down_full_tx_v10_clust.genes_vs_motifs.scores.feather.sha1sum.txt'\n",
      "\n",
      "hg38_10kbp_up_10kbp 100%[===================>]     116  --.-KB/s    in 0s      \n",
      "\n",
      "2023-03-07 10:47:51 (15.9 MB/s) - 'databases/hg38_10kbp_up_10kbp_down_full_tx_v10_clust.genes_vs_motifs.scores.feather.sha1sum.txt' saved [116/116]\n",
      "\n",
      "--2023-03-07 10:47:51--  https://resources.aertslab.org/cistarget/databases/homo_sapiens/hg38/refseq_r80/mc_v10_clust/gene_based/hg38_500bp_up_100bp_down_full_tx_v10_clust.genes_vs_motifs.rankings.feather\n",
      "Resolving resources.aertslab.org (resources.aertslab.org)... 134.58.50.9\n",
      "Connecting to resources.aertslab.org (resources.aertslab.org)|134.58.50.9|:443... connected.\n",
      "HTTP request sent, awaiting response... 200 OK\n",
      "Length: 312955770 (298M)\n",
      "Saving to: 'databases/hg38_500bp_up_100bp_down_full_tx_v10_clust.genes_vs_motifs.rankings.feather'\n",
      "\n",
      "hg38_500bp_up_100bp 100%[===================>] 298.46M  88.5MB/s    in 3.5s    \n",
      "\n",
      "2023-03-07 10:47:55 (85.0 MB/s) - 'databases/hg38_500bp_up_100bp_down_full_tx_v10_clust.genes_vs_motifs.rankings.feather' saved [312955770/312955770]\n",
      "\n",
      "--2023-03-07 10:47:55--  https://resources.aertslab.org/cistarget/databases/homo_sapiens/hg38/refseq_r80/mc_v10_clust/gene_based/hg38_500bp_up_100bp_down_full_tx_v10_clust.genes_vs_motifs.rankings.feather.sha1sum.txt\n",
      "Resolving resources.aertslab.org (resources.aertslab.org)... 134.58.50.9\n",
      "Connecting to resources.aertslab.org (resources.aertslab.org)|134.58.50.9|:443... connected.\n",
      "HTTP request sent, awaiting response... 200 OK\n",
      "Length: 118 [text/plain]\n",
      "Saving to: 'databases/hg38_500bp_up_100bp_down_full_tx_v10_clust.genes_vs_motifs.rankings.feather.sha1sum.txt'\n",
      "\n",
      "hg38_500bp_up_100bp 100%[===================>]     118  --.-KB/s    in 0s      \n",
      "\n",
      "2023-03-07 10:47:55 (17.4 MB/s) - 'databases/hg38_500bp_up_100bp_down_full_tx_v10_clust.genes_vs_motifs.rankings.feather.sha1sum.txt' saved [118/118]\n",
      "\n",
      "--2023-03-07 10:47:55--  https://resources.aertslab.org/cistarget/databases/homo_sapiens/hg38/refseq_r80/mc_v10_clust/gene_based/hg38_500bp_up_100bp_down_full_tx_v10_clust.genes_vs_motifs.scores.feather\n",
      "Resolving resources.aertslab.org (resources.aertslab.org)... 134.58.50.9\n",
      "Connecting to resources.aertslab.org (resources.aertslab.org)|134.58.50.9|:443... connected.\n",
      "HTTP request sent, awaiting response... 200 OK\n",
      "Length: 263468242 (251M)\n",
      "Saving to: 'databases/hg38_500bp_up_100bp_down_full_tx_v10_clust.genes_vs_motifs.scores.feather'\n",
      "\n",
      "hg38_500bp_up_100bp 100%[===================>] 251.26M  80.0MB/s    in 3.1s    \n",
      "\n",
      "2023-03-07 10:47:59 (80.0 MB/s) - 'databases/hg38_500bp_up_100bp_down_full_tx_v10_clust.genes_vs_motifs.scores.feather' saved [263468242/263468242]\n",
      "\n",
      "--2023-03-07 10:47:59--  https://resources.aertslab.org/cistarget/databases/homo_sapiens/hg38/refseq_r80/mc_v10_clust/gene_based/hg38_500bp_up_100bp_down_full_tx_v10_clust.genes_vs_motifs.scores.feather.sha1sum.txt\n",
      "Resolving resources.aertslab.org (resources.aertslab.org)... 134.58.50.9\n",
      "Connecting to resources.aertslab.org (resources.aertslab.org)|134.58.50.9|:443... connected.\n",
      "HTTP request sent, awaiting response... 200 OK\n",
      "Length: 116 [text/plain]\n",
      "Saving to: 'databases/hg38_500bp_up_100bp_down_full_tx_v10_clust.genes_vs_motifs.scores.feather.sha1sum.txt'\n",
      "\n",
      "hg38_500bp_up_100bp 100%[===================>]     116  --.-KB/s    in 0s      \n",
      "\n",
      "2023-03-07 10:47:59 (16.7 MB/s) - 'databases/hg38_500bp_up_100bp_down_full_tx_v10_clust.genes_vs_motifs.scores.feather.sha1sum.txt' saved [116/116]\n",
      "\n"
     ]
    }
   ],
   "source": [
    "#!feather_database_url='https://resources.aertslab.org/cistarget/databases/homo_sapiens/hg38/refseq_r80/mc_v10_clust/gene_based/hg38_10kbp_up_10kbp_down_full_tx_v10_clust.genes_vs_motifs.rankings.feather'\n",
    "!wget https://resources.aertslab.org/cistarget/databases/homo_sapiens/hg38/refseq_r80/mc_v10_clust/gene_based/hg38_10kbp_up_10kbp_down_full_tx_v10_clust.genes_vs_motifs.rankings.feather -P databases/\n",
    "!wget https://resources.aertslab.org/cistarget/databases/homo_sapiens/hg38/refseq_r80/mc_v10_clust/gene_based/hg38_10kbp_up_10kbp_down_full_tx_v10_clust.genes_vs_motifs.rankings.feather.sha1sum.txt -P databases/\n",
    "\n",
    "!wget https://resources.aertslab.org/cistarget/databases/homo_sapiens/hg38/refseq_r80/mc_v10_clust/gene_based/hg38_10kbp_up_10kbp_down_full_tx_v10_clust.genes_vs_motifs.scores.feather -P databases/\n",
    "!wget https://resources.aertslab.org/cistarget/databases/homo_sapiens/hg38/refseq_r80/mc_v10_clust/gene_based/hg38_10kbp_up_10kbp_down_full_tx_v10_clust.genes_vs_motifs.scores.feather.sha1sum.txt -P databases/\n",
    "\n",
    "!wget https://resources.aertslab.org/cistarget/databases/homo_sapiens/hg38/refseq_r80/mc_v10_clust/gene_based/hg38_500bp_up_100bp_down_full_tx_v10_clust.genes_vs_motifs.rankings.feather -P databases/\n",
    "!wget https://resources.aertslab.org/cistarget/databases/homo_sapiens/hg38/refseq_r80/mc_v10_clust/gene_based/hg38_500bp_up_100bp_down_full_tx_v10_clust.genes_vs_motifs.rankings.feather.sha1sum.txt -P databases/\n",
    "\n",
    "!wget https://resources.aertslab.org/cistarget/databases/homo_sapiens/hg38/refseq_r80/mc_v10_clust/gene_based/hg38_500bp_up_100bp_down_full_tx_v10_clust.genes_vs_motifs.scores.feather -P databases/\n",
    "!wget https://resources.aertslab.org/cistarget/databases/homo_sapiens/hg38/refseq_r80/mc_v10_clust/gene_based/hg38_500bp_up_100bp_down_full_tx_v10_clust.genes_vs_motifs.scores.feather.sha1sum.txt -P databases/"
   ]
  },
  {
   "cell_type": "code",
   "execution_count": 3,
   "id": "7f64fcea-eed1-4e47-9c58-36d7bacef672",
   "metadata": {
    "tags": []
   },
   "outputs": [
    {
     "name": "stdout",
     "output_type": "stream",
     "text": [
      "hg38_10kbp_up_10kbp_down_full_tx_v10_clust.genes_vs_motifs.rankings.feather: OK\n",
      "hg38_10kbp_up_10kbp_down_full_tx_v10_clust.genes_vs_motifs.scores.feather: OK\n",
      "hg38_500bp_up_100bp_down_full_tx_v10_clust.genes_vs_motifs.rankings.feather: OK\n",
      "hg38_500bp_up_100bp_down_full_tx_v10_clust.genes_vs_motifs.scores.feather: OK\n"
     ]
    }
   ],
   "source": [
    "!cd ./databases/; sha1sum -c *.sha1sum.txt; cd .."
   ]
  },
  {
   "cell_type": "code",
   "execution_count": null,
   "id": "bff9773b-26dd-4f5d-92bb-78f2480490a2",
   "metadata": {
    "tags": []
   },
   "outputs": [],
   "source": []
  },
  {
   "cell_type": "code",
   "execution_count": null,
   "id": "7e52ec05-bc08-4690-bb33-74cf0e1d55c9",
   "metadata": {
    "tags": []
   },
   "outputs": [],
   "source": []
  },
  {
   "cell_type": "code",
   "execution_count": null,
   "id": "dc6230b2-0595-4eb9-895c-d24e31d10f4c",
   "metadata": {
    "tags": []
   },
   "outputs": [],
   "source": []
  },
  {
   "cell_type": "code",
   "execution_count": null,
   "id": "5f10d647-71ba-4886-a3f7-e242467175fc",
   "metadata": {},
   "outputs": [],
   "source": []
  },
  {
   "cell_type": "code",
   "execution_count": null,
   "id": "b8a5aaf9-1ea2-4baf-b375-29b1cd038e14",
   "metadata": {},
   "outputs": [],
   "source": []
  }
 ],
 "metadata": {
  "kernelspec": {
   "display_name": "Python 3 (ipykernel)",
   "language": "python",
   "name": "python3"
  },
  "language_info": {
   "codemirror_mode": {
    "name": "ipython",
    "version": 3
   },
   "file_extension": ".py",
   "mimetype": "text/x-python",
   "name": "python",
   "nbconvert_exporter": "python",
   "pygments_lexer": "ipython3",
   "version": "3.8.10"
  }
 },
 "nbformat": 4,
 "nbformat_minor": 5
}
