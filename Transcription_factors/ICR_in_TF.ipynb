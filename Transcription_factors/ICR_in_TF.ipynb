{
 "cells": [
  {
   "cell_type": "markdown",
   "id": "8eff9261-e8ad-4431-9f60-3e90a390289e",
   "metadata": {},
   "source": [
    "# check regulons\n"
   ]
  },
  {
   "cell_type": "code",
   "execution_count": 4,
   "id": "f75f758f-fbda-4b09-98c0-d61544af8801",
   "metadata": {
    "tags": []
   },
   "outputs": [],
   "source": [
    "import pandas as pd\n",
    "import matplotlib.pyplot as plt\n",
    "from matplotlib_venn import venn2\n",
    "import seaborn as sns\n",
    "import math\n",
    "import numpy as np\n",
    "import networkx as nx\n",
    "import warnings\n",
    "warnings.filterwarnings(\"ignore\")"
   ]
  },
  {
   "cell_type": "code",
   "execution_count": 5,
   "id": "18db794a-db2b-4698-97e6-81e5046f0a1e",
   "metadata": {
    "tags": []
   },
   "outputs": [],
   "source": [
    "exh_mm = pd.read_csv(\"Results/exhausted_regulons_score.csv\")\n",
    "res_mm = pd.read_csv(\"Results/resident_regulons_score.csv\")\n",
    "exh_ht = pd.read_csv(\"Results/ht_exhausted_regulons_score.csv\")\n",
    "res_ht = pd.read_csv(\"Results/ht_resident_regulons_score.csv\")\n",
    "\n",
    "def fix_names(df):\n",
    "    genes = df.columns\n",
    "    genes = [s.replace(\"_(+)\", \"\") for s in genes]\n",
    "    df.columns = genes\n",
    "    return df\n",
    "exh_mm = fix_names(exh_mm).drop(0)\n",
    "exh_mm = exh_mm.to_dict(orient=\"list\")\n",
    "res_mm = fix_names(res_mm).drop(0)\n",
    "res_mm = res_mm.to_dict(orient=\"list\")\n",
    "exh_ht = fix_names(exh_ht).drop(0)\n",
    "exh_ht = exh_ht.to_dict(orient=\"list\")\n",
    "res_ht = fix_names(res_ht).drop(0)\n",
    "res_ht = res_ht.to_dict(orient=\"list\")"
   ]
  },
  {
   "cell_type": "code",
   "execution_count": 6,
   "id": "7085467c-5c8b-46e5-9a08-95017c7d8203",
   "metadata": {
    "tags": []
   },
   "outputs": [],
   "source": [
    "genes = pd.read_csv(\"Data/gene_lists-check_regulons.csv\")\n",
    "genes = genes.to_dict(orient=\"list\")"
   ]
  },
  {
   "cell_type": "code",
   "execution_count": 7,
   "id": "790c913a-e39a-476a-aa0a-08252f5772ca",
   "metadata": {
    "tags": []
   },
   "outputs": [],
   "source": [
    "def remove_na(dirty_list):\n",
    "    for i in range(len(dirty_list)-1,-1,-1):\n",
    "        #print(i)\n",
    "        if pd.isnull(dirty_list[i]):\n",
    "            #print(\"gotcha\")\n",
    "            dirty_list.pop(i)\n",
    "    return dirty_list\n",
    "            \n",
    "\n",
    "def remove_from_dict(dictionary):\n",
    "    for key in dictionary:\n",
    "        dictionary[key] = remove_na(dictionary[key])\n",
    "    return dictionary\n",
    "        \n",
    "exh_mm = remove_from_dict(exh_mm)\n",
    "res_mm = remove_from_dict(res_mm)\n",
    "exh_ht = remove_from_dict(exh_ht)\n",
    "res_ht = remove_from_dict(res_ht)\n",
    "genes = remove_from_dict(genes)"
   ]
  },
  {
   "cell_type": "code",
   "execution_count": 8,
   "id": "092f11b6-e592-469a-8825-582e3037a391",
   "metadata": {
    "tags": []
   },
   "outputs": [
    {
     "data": {
      "application/vnd.jupyter.widget-view+json": {
       "model_id": "fca553577f1c4dfa8633bff0d4fc5771",
       "version_major": 2,
       "version_minor": 0
      },
      "text/plain": [
       "interactive(children=(Dropdown(description='dataframe', options=('Exhausted', 'Resident'), value='Exhausted'),…"
      ]
     },
     "metadata": {},
     "output_type": "display_data"
    }
   ],
   "source": [
    "import ipywidgets as widgets\n",
    "from IPython.display import display\n",
    "from ipywidgets import interact_manual\n",
    "\n",
    "def intersection(lst1, lst2):\n",
    "    return list(set(lst1) & set(lst2))\n",
    "\n",
    "def hist_plot(dataframe, variable):\n",
    "\n",
    "    tmp_mm = {k:intersection(dataframe[0][k],genes[variable]) for k,v in dataframe[0].items() if len(intersection(dataframe[0][k],genes[variable])) > 0}\n",
    "    tmp_ht = {k:intersection(dataframe[1][k],genes[variable]) for k,v in dataframe[1].items() if len(intersection(dataframe[1][k],genes[variable])) > 0}\n",
    "\n",
    "    tmp_mm_n = pd.DataFrame({k:len(v) for k,v in tmp_mm.items()}, index=[0]).T\n",
    "    tmp_mm_n.columns = [variable]\n",
    "    tmp_ht_n = pd.DataFrame({k:len(v) for k,v in tmp_ht.items()}, index=[0]).T\n",
    "    tmp_ht_n.columns = [variable]\n",
    "    \n",
    "    if dataframe[0] == exh_mm:\n",
    "        condition = \"Exhausted\"\n",
    "    else:\n",
    "        condition = \"Resident\"\n",
    "\n",
    "    print(f\"{condition} NK cells:\\nThe TFs whose regulons contain {variable} are:\\nMM: {tmp_mm_n.shape[0]}\\\n",
    "    Healthy: {tmp_ht_n.shape[0]}\\nThe TF with more {variable} in the regulon is:\\nMM: {tmp_mm_n[variable].idxmax()}\\\n",
    "        with: {tmp_mm_n.loc[tmp_mm_n[variable].idxmax()][0]}\\nHealthy: {tmp_ht_n[variable].idxmax()}\\\n",
    "        with: {tmp_ht_n.loc[tmp_ht_n[variable].idxmax()][0]}\")\n",
    "    \n",
    "    title = variable + \" find in regulons from \" + condition + \" NK cells\"\n",
    "    \n",
    "    fig, (ax1, ax2) = plt.subplots(2, 1, figsize=(15, 10))\n",
    "    fig.suptitle(title)\n",
    "    ax1.bar(tmp_mm_n.index,tmp_mm_n[variable])\n",
    "    ax1.set_xticklabels(tmp_mm_n.index,rotation=35, fontsize=8)\n",
    "    ax1.set_title(\"Multiple Myeloma\")\n",
    "\n",
    "    ax2.bar(tmp_ht_n.index,tmp_ht_n[variable])\n",
    "    ax2.set_xticklabels(tmp_ht_n.index,rotation=35, fontsize=8)\n",
    "    ax2.set_title(\"Healthy\")\n",
    "\n",
    "    plt.show()\n",
    "    return tmp_mm, tmp_ht, condition\n",
    "\n",
    "\n",
    "def net_plot(tmp, variable, condition, dataframe):\n",
    "    nodes = {}\n",
    "    for key in tmp:\n",
    "        nodes[key] = {\"color\" :\"green\"}\n",
    "\n",
    "    for f in sum(list(tmp.values()),[]):\n",
    "        nodes[f] = {\"color\": \"red\"}\n",
    "\n",
    "    nodes = [(k, v) for k, v in nodes.items()]\n",
    "\n",
    "    edges = []\n",
    "    for key in tmp:\n",
    "        for item in tmp[key]:\n",
    "            edges.append((key, item))\n",
    "\n",
    "    G = nx.Graph()\n",
    "    G.add_nodes_from(nodes)\n",
    "    G.add_edges_from(edges)\n",
    "    centrality = nx.betweenness_centrality(G)\n",
    "    ATTRIBUTE_NAME = 'color'\n",
    "    colors = [G.nodes[node][ATTRIBUTE_NAME] for node in list(G.nodes())]\n",
    "    fig = plt.figure(figsize=(15,10))\n",
    "    nx.draw_kamada_kawai(G, node_color=colors, with_labels=True, font_size=15, node_size=[v * 1000 for v in centrality.values()])\n",
    "    title = \"Network TFs and \" + variable + \" in \" + condition + \" \" + dataframe\n",
    "    plt.title(title)\n",
    "    plt.suptitle(\"Node size: Centrality\\nGreen: TF\\nRed:\"+ variable, fontsize=10)\n",
    "    plt.show()\n",
    "\n",
    "    sorted_centrality = sorted(centrality.items(), key=lambda x:x[1], reverse=True)\n",
    "    print(pd.DataFrame(dict(sorted_centrality),index=[0]).T.head())\n",
    "    \n",
    "    \n",
    "variables = sorted(genes.keys())\n",
    "\n",
    "dfs = {\"Exhausted\": [exh_mm, exh_ht], \"Resident\": [res_mm, res_ht]}\n",
    "\n",
    "w = widgets.Select(options=variables)\n",
    "\n",
    "@interact_manual\n",
    "def plot_data(dataframe=dfs.keys(), variable=w):\n",
    "    tmp_mm, tmp_ht, condition = hist_plot(dfs[dataframe], variable)\n",
    "    net_plot(tmp_mm,variable, condition, \"MM\")\n",
    "    net_plot(tmp_ht, variable, condition, \"Healthy\")"
   ]
  }
 ],
 "metadata": {
  "kernelspec": {
   "display_name": "Python 3 (ipykernel)",
   "language": "python",
   "name": "python3"
  },
  "language_info": {
   "codemirror_mode": {
    "name": "ipython",
    "version": 3
   },
   "file_extension": ".py",
   "mimetype": "text/x-python",
   "name": "python",
   "nbconvert_exporter": "python",
   "pygments_lexer": "ipython3",
   "version": "3.8.10"
  }
 },
 "nbformat": 4,
 "nbformat_minor": 5
}
