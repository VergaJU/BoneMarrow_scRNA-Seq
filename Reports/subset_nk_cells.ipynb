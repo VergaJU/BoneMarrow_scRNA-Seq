{
 "cells": [
  {
   "cell_type": "code",
   "execution_count": 1,
   "id": "bd967c9a-51c7-4a38-8dfd-5f117cdd7930",
   "metadata": {},
   "outputs": [],
   "source": [
    "import scanpy as sc\n",
    "import pandas as pd\n",
    "import anndata as ad"
   ]
  },
  {
   "cell_type": "code",
   "execution_count": 2,
   "id": "e2ef1ee7-d6ee-42f5-a951-4820ec472738",
   "metadata": {},
   "outputs": [],
   "source": [
    "adata_mm = sc.read(\"MM_atlas_dataset_seurat_labelled.h5ad\")\n",
    "adata_ht = sc.read(\"Healthy_dataset_seurat_labelled.h5ad\")"
   ]
  },
  {
   "cell_type": "code",
   "execution_count": 4,
   "id": "e232a993-f837-4ecf-a30b-94f9c810cd33",
   "metadata": {},
   "outputs": [
    {
     "data": {
      "text/plain": [
       "AnnData object with n_obs × n_vars = 150682 × 48361\n",
       "    obs: 'orig.ident', 'nCount_RNA', 'nFeature_RNA', 'percent_mt', 'batch', 'label'\n",
       "    var: 'gene_ids'"
      ]
     },
     "execution_count": 4,
     "metadata": {},
     "output_type": "execute_result"
    }
   ],
   "source": [
    "adata_mm.obs[\"condition\"] = \"MM\"\n",
    "adata_ht.obs[\"condition\"] = \"healthy\""
   ]
  },
  {
   "cell_type": "code",
   "execution_count": null,
   "id": "df50ff45-2f37-43f3-97c2-5cf8039ce636",
   "metadata": {},
   "outputs": [],
   "source": [
    "nk_cells = [\"CD56dimCD16+ NK cells\", \"CD56brightCD16- NK cells\", \"NK cell progenitors\"]"
   ]
  },
  {
   "cell_type": "code",
   "execution_count": null,
   "id": "4360dad6-16c0-40a8-97cf-410ff381bbbd",
   "metadata": {},
   "outputs": [],
   "source": [
    "adata_mm_nk = adata_mm[adata_mm.obs[\"label\"].isin(nk_cells)] # create anndata object with only bm samples\n",
    "adata_ht_nk = adata_ht[adata_ht.obs[\"label\"].isin(nk_cells)] # create anndata object with only bm samples"
   ]
  },
  {
   "cell_type": "code",
   "execution_count": null,
   "id": "efb9bb3e-6f37-43af-b04f-c7af5f7d1ab5",
   "metadata": {},
   "outputs": [],
   "source": [
    "print(adata_ht_nk)\n",
    "print(adata_ht_nk.obs.label.value_counts())"
   ]
  },
  {
   "cell_type": "code",
   "execution_count": null,
   "id": "59d7c8b9-1938-4f00-a2d0-e791b5a7fb6b",
   "metadata": {},
   "outputs": [],
   "source": []
  },
  {
   "cell_type": "code",
   "execution_count": null,
   "id": "e371c65e-93ec-4e7c-8b2e-4b23c3133925",
   "metadata": {},
   "outputs": [],
   "source": []
  }
 ],
 "metadata": {
  "kernelspec": {
   "display_name": "Python 3 (ipykernel)",
   "language": "python",
   "name": "python3"
  },
  "language_info": {
   "codemirror_mode": {
    "name": "ipython",
    "version": 3
   },
   "file_extension": ".py",
   "mimetype": "text/x-python",
   "name": "python",
   "nbconvert_exporter": "python",
   "pygments_lexer": "ipython3",
   "version": "3.8.8"
  }
 },
 "nbformat": 4,
 "nbformat_minor": 5
}
