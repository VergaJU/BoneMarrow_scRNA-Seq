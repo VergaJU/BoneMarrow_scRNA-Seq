{
 "cells": [
  {
   "cell_type": "code",
   "execution_count": 1,
   "id": "eab84cbb-b0ba-45d9-8003-c32573642b46",
   "metadata": {},
   "outputs": [],
   "source": [
    "import scanpy as sc\n",
    "import pandas as pd\n",
    "import anndata as ad"
   ]
  },
  {
   "cell_type": "code",
   "execution_count": 2,
   "id": "37357e6f-be6f-4603-8222-b5879c15d396",
   "metadata": {},
   "outputs": [],
   "source": [
    "adata_mm = sc.read(\"Data/MM_atlas_raw_labelled.h5ad\")\n",
    "adata_ht = sc.read(\"Data/Healthy_raw_labelled.h5ad\")"
   ]
  },
  {
   "cell_type": "code",
   "execution_count": 3,
   "id": "2b3f5819-e4be-4991-a6bf-312a571c6b88",
   "metadata": {},
   "outputs": [],
   "source": [
    "adata_mm.obs[\"condition\"] = \"MM\"\n",
    "adata_ht.obs[\"condition\"] = \"healthy\""
   ]
  },
  {
   "cell_type": "code",
   "execution_count": 4,
   "id": "bbc735c5-838e-401a-ab10-1e531339bd53",
   "metadata": {},
   "outputs": [],
   "source": [
    "nk_cells = [\"CD56dimCD16+ NK cells\", \"CD56brightCD16- NK cells\", \"NK cell progenitors\"]"
   ]
  },
  {
   "cell_type": "code",
   "execution_count": 5,
   "id": "e8a82602-118b-43c6-a8cf-db744ef60842",
   "metadata": {},
   "outputs": [],
   "source": [
    "adata_mm_nk = adata_mm[adata_mm.obs[\"label\"].isin(nk_cells)] # create anndata object with only bm samples\n",
    "adata_ht_nk = adata_ht[adata_ht.obs[\"label\"].isin(nk_cells)] # create anndata object with only bm samples"
   ]
  },
  {
   "cell_type": "code",
   "execution_count": 6,
   "id": "e75912ca-dd05-44c7-b265-918dff1dfab4",
   "metadata": {},
   "outputs": [
    {
     "name": "stdout",
     "output_type": "stream",
     "text": [
      "View of AnnData object with n_obs × n_vars = 7761 × 60623\n",
      "    obs: 'nCount_RNA', 'nFeature_RNA', 'percent_mt', 'batch', 'label', 'condition'\n",
      "    var: 'name'\n",
      "CD56dimCD16+ NK cells       7170\n",
      "CD56brightCD16- NK cells     553\n",
      "NK cell progenitors           38\n",
      "Name: label, dtype: int64\n"
     ]
    }
   ],
   "source": [
    "print(adata_ht_nk)\n",
    "print(adata_ht_nk.obs.label.value_counts())"
   ]
  },
  {
   "cell_type": "code",
   "execution_count": 7,
   "id": "462edc35-0c0f-4e20-8318-ebac138b6c00",
   "metadata": {},
   "outputs": [
    {
     "name": "stdout",
     "output_type": "stream",
     "text": [
      "View of AnnData object with n_obs × n_vars = 14620 × 60623\n",
      "    obs: 'nCount_RNA', 'nFeature_RNA', 'percent_mt', 'batch', 'RNA_snn_res.0.2', 'seurat_clusters', 'label', 'ident', 'condition'\n",
      "    var: 'name'\n",
      "CD56dimCD16+ NK cells       13654\n",
      "CD56brightCD16- NK cells      908\n",
      "NK cell progenitors            58\n",
      "Name: label, dtype: int64\n"
     ]
    }
   ],
   "source": [
    "print(adata_mm_nk)\n",
    "print(adata_mm_nk.obs.label.value_counts())"
   ]
  },
  {
   "cell_type": "code",
   "execution_count": 8,
   "id": "c8b679c6-7cf4-4f21-ae03-440f89d1b4fd",
   "metadata": {},
   "outputs": [],
   "source": [
    "adata_nk = ad.concat([adata_mm_nk, adata_ht_nk], join=\"outer\")"
   ]
  },
  {
   "cell_type": "code",
   "execution_count": 9,
   "id": "87206082-8758-4008-9ac0-c15ce5c6bbde",
   "metadata": {},
   "outputs": [
    {
     "name": "stdout",
     "output_type": "stream",
     "text": [
      "AnnData object with n_obs × n_vars = 22381 × 60623\n",
      "    obs: 'nCount_RNA', 'nFeature_RNA', 'percent_mt', 'batch', 'RNA_snn_res.0.2', 'seurat_clusters', 'label', 'ident', 'condition'\n",
      "CD56dimCD16+ NK cells       20824\n",
      "CD56brightCD16- NK cells     1461\n",
      "NK cell progenitors            96\n",
      "Name: label, dtype: int64\n"
     ]
    }
   ],
   "source": [
    "print(adata_nk)\n",
    "print(adata_nk.obs.label.value_counts())"
   ]
  },
  {
   "cell_type": "code",
   "execution_count": 10,
   "id": "083d3e7f-fdcd-49c5-be18-4e8c09cc4139",
   "metadata": {},
   "outputs": [],
   "source": [
    "adata_nk.write(\"Data/nk_cells.h5ad\")"
   ]
  }
 ],
 "metadata": {
  "kernelspec": {
   "display_name": "Python 3 (ipykernel)",
   "language": "python",
   "name": "python3"
  },
  "language_info": {
   "codemirror_mode": {
    "name": "ipython",
    "version": 3
   },
   "file_extension": ".py",
   "mimetype": "text/x-python",
   "name": "python",
   "nbconvert_exporter": "python",
   "pygments_lexer": "ipython3",
   "version": "3.8.8"
  }
 },
 "nbformat": 4,
 "nbformat_minor": 5
}
